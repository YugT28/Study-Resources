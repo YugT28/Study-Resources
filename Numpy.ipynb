{
 "cells": [
  {
   "metadata": {},
   "cell_type": "markdown",
   "source": [
    "__Numpy__\n",
    "\n",
    "Numerical Python,written in C and Faster in Execution"
   ],
   "id": "57d0c134a6651f87"
  },
  {
   "metadata": {},
   "cell_type": "raw",
   "source": [
    "Numpy is fundamental package for scientific computing in Python.\n",
    "\n",
    "Python Library provide:- \n",
    "->multidimentional array object \n",
    "->derived object(masked array and matrices) \n",
    "->assortment of routine for fast operations on array\n",
    "->mathematical logic\n",
    "->shape manupulation \n",
    "->sorting \n",
    "->selecting \n",
    "->I/O \n",
    "->discreate Forier Transformation\n",
    "->basic linear algebra \n",
    "->basics statistic operation \n",
    "->random simulation and more.\n"
   ],
   "id": "c676d8e1cc87bd9e"
  },
  {
   "metadata": {},
   "cell_type": "raw",
   "source": [
    "Numpy Provide Object:\n",
    "->ndarray(Numpy array)\n",
    "->matrix\n",
    "\n",
    "\n",
    "Numpy Array:-(Fixed size,Homogenous,Vectorization Feature,Indexed Collection)\n",
    "1.This array have fixed size.Changing size of an ndarray will create new array and delete original one.\n",
    "2.Element in array is on same datatype of same size in memory.\n",
    "\n"
   ],
   "id": "a4041ba5fad86a69"
  },
  {
   "metadata": {},
   "cell_type": "markdown",
   "source": "GENERAL NOTES:-",
   "id": "3a25f071343e25ea"
  },
  {
   "metadata": {},
   "cell_type": "raw",
   "source": [
    "Two Type of Function:- a>Library Level FUnction b>Object Level Function\n",
    "\n",
    "Axis:-\n",
    "\n",
    "1D:-indices\n",
    "shape(10---->axis0,)\n",
    "\n",
    "2D:- axis 0 -row,axis 1- columns\n",
    "shape(10-->axis0,20--->axis1)\n",
    "\n",
    "View(assiging variable) and Copy(creating actual copy):-\n",
    "View:-\n",
    "->Not sepearate object\n",
    "->logical representation of existing array\n",
    "->changes will be reflected if make any.\n",
    "Copy:-\n",
    "->making seperate object at new memory location.\n",
    "->totol copy.\n",
    "->changes will not reflect if make any.  \n",
    "\n",
    "Slicing and Indexing:- \n",
    "Python Slicing-> Copy is Created.\n",
    "Numpy Slicing-> View is Created.\n",
    "Fancy Indexing-> View is Created.\n",
    "\n",
    "Delete:- \n",
    "Delete gives copy not view.\n",
    "\n",
    "Insert/Replace:-\n",
    "Insert-> Copy is Created\n",
    "Append-> Copy is Created\n",
    "Put-> make change directly to array not wvwn returning view #VIMP\n",
    "\n",
    "\n",
    "Array Manupulation:-\n",
    "reshape will give view\n",
    "flattern will return copy\n",
    "ravel will return view\n",
    "\n",
    "\n",
    "\n",
    "\n",
    "Sorting:- notion of axis is bit hard to understand\n",
    "\n",
    "Library Level Function\n",
    "Object Level Function\n",
    "Universal Function:- element by element\n",
    "\n",
    "\n",
    "\n"
   ],
   "id": "a323441de877dd08"
  },
  {
   "metadata": {},
   "cell_type": "raw",
   "source": [
    "Chapter:-\n",
    "------------------------------------------------------------\n",
    "1.Create Array:-10 normal ways,7 random ways\n",
    "2.Attribute Of Array:-5 base attribute\n",
    "3.Access Element Of Array:-4 ways\n",
    "4.Iterate Over Array:-3 ways\n",
    "5.Delete:-\n",
    "6.Insert/Replace:-\n",
    "7.Sort:-\n",
    "8.Searching:-\n",
    "9.Joining:-\n",
    "10.Spliting:-\n",
    "11.Unique:-\n"
   ],
   "id": "c4b2c4b6172e8124"
  },
  {
   "metadata": {},
   "cell_type": "markdown",
   "source": "# 1.Create Array",
   "id": "77faa96e8699c944"
  },
  {
   "metadata": {},
   "cell_type": "raw",
   "source": [
    "import numpy as np\n",
    "\n",
    "a> 10 normal ways\n",
    "np.array()\n",
    "-------------------------\n",
    "np.arange()\n",
    "np.linspace()\n",
    "-------------------------\n",
    "np.zeros()\n",
    "np.ones()\n",
    "np.full()\n",
    "-------------------------\n",
    "np.eye()\n",
    "np.identity()\n",
    "-------------------------\n",
    "np.diag()\n",
    "-------------------------\n",
    "np.empty()\n",
    "\n",
    "\n",
    "b> 7 using random \n",
    "np.random.randint()\n",
    "------------------------\n",
    "np.random.rand()\n",
    "np.random.uniform()\n",
    "------------------------\n",
    "np.random.randn()\n",
    "np.random.normal()\n",
    "-----------------------\n",
    "np.random.shuffle()"
   ],
   "id": "b9ad5cf4ceeb6915"
  },
  {
   "metadata": {},
   "cell_type": "markdown",
   "source": "# 2.Attributes Of Array",
   "id": "a5b8146e422dfebf"
  },
  {
   "metadata": {},
   "cell_type": "raw",
   "source": [
    "import numpy as np\n",
    "\n",
    "a=np.array([10,20,30])\n",
    "\n",
    "a.shape\n",
    "a.size\n",
    "a.ndim\n",
    "----------------\n",
    "a.dtype\n",
    "a.itemsize\n",
    "a.nbytes"
   ],
   "id": "5cdc38230dbfd1a5"
  },
  {
   "metadata": {},
   "cell_type": "markdown",
   "source": "# 3.Access Element Of Array",
   "id": "afa2ce4e5120a61"
  },
  {
   "metadata": {},
   "cell_type": "markdown",
   "source": [
    "### a> Indexing:- Accessing single element of array. (view)\n",
    "\n",
    "    1D: array[index]-> element\n",
    "    2D: array[row_index]-> return row\n",
    "        array[row_index][column_index]-> return element\n",
    "    3D: array[2D_index]-> 2D array\n",
    "        array[2D_index][row_index]-> return row\n",
    "        array[2D_index][row_index][column_index]-> return element\n",
    "\n",
    "### b> Slicing:- Accessing group of Element which are in order (view)\n",
    "    1D: array[start:end:step]\n",
    "    2D: array[::,::]\n",
    "    3D: array[::,::,::]<==>array[2D,row,column]\n",
    "### c> Fancy Indexing/Advance Slicing:- Accessing Arbitary Element (copy)\n",
    "    # contain list or ndarray(Numpy array) contain indices\n",
    "    1D: array[[indices]]\n",
    "    2D: array[[row],[column]]\n",
    "    3D: array[[2D],[row],[column]]\n",
    "### d> Boolean Indexing:- conditon return boolean array which act as  mask to filter. (view)\n",
    "    Condition: a>10 -> boolean array\n",
    "    Condition Operator: <,>,==,<=,>=,!=,%=\n",
    "    Masking on boolean array: a[a>50]-> return value of a-array whoes boolean value id True"
   ],
   "id": "ae6e555188d7e710"
  },
  {
   "metadata": {},
   "cell_type": "markdown",
   "source": [
    "NOTE:- \n",
    "Python Slicing-> Copy is Created.\n",
    "Numpy Slicing-> View is Created.\n",
    "Fancy Indexing-> View is Created."
   ],
   "id": "a4066e3f702ffa70"
  },
  {
   "metadata": {
    "ExecuteTime": {
     "end_time": "2024-06-16T07:43:22.914537Z",
     "start_time": "2024-06-16T07:43:22.907427Z"
    }
   },
   "cell_type": "code",
   "source": [
    "import numpy as np\n",
    "a1=np.arange(8)\n",
    "a2=np.arange(8).reshape(4,2)\n",
    "a3=np.arange(8).reshape(2,2,2)\n",
    "\n",
    "#a>Indexing\n",
    "a3[0]\n",
    "a3[0][0]\n",
    "a3[0][0][0]\n",
    "\n",
    "\n"
   ],
   "id": "889e6ab75168716c",
   "outputs": [
    {
     "data": {
      "text/plain": [
       "0"
      ]
     },
     "execution_count": 2,
     "metadata": {},
     "output_type": "execute_result"
    }
   ],
   "execution_count": 2
  },
  {
   "metadata": {},
   "cell_type": "markdown",
   "source": "# 4.Iteration Over Numpy Array",
   "id": "a57fd750c44116b7"
  },
  {
   "metadata": {},
   "cell_type": "markdown",
   "source": [
    "## Three ways for Iteration:-\n",
    "### 1>Python Looping\n",
    "    for i in a1:-> Iterate over each element\n",
    "    for i in a2:-> iterate over 1D row\n",
    "    for i in a3:-> iterate over 2D array\n",
    "    \n",
    "### 2>Use nditer()\n",
    "    it will generate object of flattern array\n",
    "    \n",
    "### 3>Use ndenumerator()\n",
    "    similar to nditer() but also provide indices(position) of value with it."
   ],
   "id": "a53a8e658331640b"
  },
  {
   "metadata": {
    "ExecuteTime": {
     "end_time": "2024-06-16T07:43:23.422655Z",
     "start_time": "2024-06-16T07:43:23.418812Z"
    }
   },
   "cell_type": "code",
   "source": [
    "#python looping\n",
    "for i in a3:\n",
    "    print(i)"
   ],
   "id": "4423298eee669527",
   "outputs": [
    {
     "name": "stdout",
     "output_type": "stream",
     "text": [
      "[[0 1]\n",
      " [2 3]]\n",
      "[[4 5]\n",
      " [6 7]]\n"
     ]
    }
   ],
   "execution_count": 3
  },
  {
   "metadata": {
    "ExecuteTime": {
     "end_time": "2024-06-16T07:43:23.439111Z",
     "start_time": "2024-06-16T07:43:23.434601Z"
    }
   },
   "cell_type": "code",
   "source": [
    "#nditer()    \n",
    "for i in np.nditer(a3):\n",
    "    print(i)\n"
   ],
   "id": "d98dbede7e56e35c",
   "outputs": [
    {
     "name": "stdout",
     "output_type": "stream",
     "text": [
      "0\n",
      "1\n",
      "2\n",
      "3\n",
      "4\n",
      "5\n",
      "6\n",
      "7\n"
     ]
    }
   ],
   "execution_count": 4
  },
  {
   "metadata": {
    "ExecuteTime": {
     "end_time": "2024-06-16T07:43:23.482576Z",
     "start_time": "2024-06-16T07:43:23.478695Z"
    }
   },
   "cell_type": "code",
   "source": [
    "#ndenumerate\n",
    "for i in np.ndenumerate(a3):\n",
    "    print(i)"
   ],
   "id": "c671be52a3829eaf",
   "outputs": [
    {
     "name": "stdout",
     "output_type": "stream",
     "text": [
      "((0, 0, 0), 0)\n",
      "((0, 0, 1), 1)\n",
      "((0, 1, 0), 2)\n",
      "((0, 1, 1), 3)\n",
      "((1, 0, 0), 4)\n",
      "((1, 0, 1), 5)\n",
      "((1, 1, 0), 6)\n",
      "((1, 1, 1), 7)\n"
     ]
    }
   ],
   "execution_count": 5
  },
  {
   "metadata": {},
   "cell_type": "markdown",
   "source": "# 5.Delete",
   "id": "30bf447055fa02b6"
  },
  {
   "metadata": {},
   "cell_type": "markdown",
   "source": [
    "### 1>Axis Provided:- Delete given axis indice as given\n",
    "    1D: no axis is needed \n",
    "    2D: Axis-0 refers to as row\n",
    "        Axis-1 refers as column\n",
    "    3D: Axis-0 refers to as 2D Array\n",
    "        Axis-1 refers as row\n",
    "        Axis-1 refers as column \n",
    "### 2>Axis Not provided:- flattern array and then delete\n"
   ],
   "id": "addafcd37295e6bd"
  },
  {
   "metadata": {},
   "cell_type": "markdown",
   "source": "#### 3D array is collection of 2D array",
   "id": "998dea070cefb839"
  },
  {
   "metadata": {
    "ExecuteTime": {
     "end_time": "2024-06-16T07:43:23.586311Z",
     "start_time": "2024-06-16T07:43:23.581622Z"
    }
   },
   "cell_type": "code",
   "source": [
    "a3=np.arange(27).reshape(3,3,3)\n",
    "a3"
   ],
   "id": "9d4bd0ea02cd1057",
   "outputs": [
    {
     "data": {
      "text/plain": [
       "array([[[ 0,  1,  2],\n",
       "        [ 3,  4,  5],\n",
       "        [ 6,  7,  8]],\n",
       "\n",
       "       [[ 9, 10, 11],\n",
       "        [12, 13, 14],\n",
       "        [15, 16, 17]],\n",
       "\n",
       "       [[18, 19, 20],\n",
       "        [21, 22, 23],\n",
       "        [24, 25, 26]]])"
      ]
     },
     "execution_count": 6,
     "metadata": {},
     "output_type": "execute_result"
    }
   ],
   "execution_count": 6
  },
  {
   "metadata": {},
   "cell_type": "markdown",
   "source": "#### axis-0 will delete 2D array at indice 1",
   "id": "83395325a2c9591b"
  },
  {
   "metadata": {
    "ExecuteTime": {
     "end_time": "2024-06-16T07:43:23.609963Z",
     "start_time": "2024-06-16T07:43:23.604947Z"
    }
   },
   "cell_type": "code",
   "source": "np.delete(a3,[1],axis=0) ",
   "id": "a41cfbff32b5362f",
   "outputs": [
    {
     "data": {
      "text/plain": [
       "array([[[ 0,  1,  2],\n",
       "        [ 3,  4,  5],\n",
       "        [ 6,  7,  8]],\n",
       "\n",
       "       [[18, 19, 20],\n",
       "        [21, 22, 23],\n",
       "        [24, 25, 26]]])"
      ]
     },
     "execution_count": 7,
     "metadata": {},
     "output_type": "execute_result"
    }
   ],
   "execution_count": 7
  },
  {
   "metadata": {},
   "cell_type": "markdown",
   "source": "#### axis-1 will delete given row from every 2D array",
   "id": "bed82b345706d57c"
  },
  {
   "metadata": {
    "ExecuteTime": {
     "end_time": "2024-06-16T07:43:23.667897Z",
     "start_time": "2024-06-16T07:43:23.663081Z"
    }
   },
   "cell_type": "code",
   "source": "np.delete(a3,[1,2],axis=1) ",
   "id": "e2a11414743ce2e0",
   "outputs": [
    {
     "data": {
      "text/plain": [
       "array([[[ 0,  1,  2]],\n",
       "\n",
       "       [[ 9, 10, 11]],\n",
       "\n",
       "       [[18, 19, 20]]])"
      ]
     },
     "execution_count": 8,
     "metadata": {},
     "output_type": "execute_result"
    }
   ],
   "execution_count": 8
  },
  {
   "metadata": {},
   "cell_type": "markdown",
   "source": "#### axis-2 will delete given column from every 2D array",
   "id": "1198f1763b83c274"
  },
  {
   "metadata": {
    "ExecuteTime": {
     "end_time": "2024-06-16T07:43:23.767750Z",
     "start_time": "2024-06-16T07:43:23.764125Z"
    }
   },
   "cell_type": "code",
   "source": "np.delete(a3,[2],axis=2) ",
   "id": "6b6804b1a947a19c",
   "outputs": [
    {
     "data": {
      "text/plain": [
       "array([[[ 0,  1],\n",
       "        [ 3,  4],\n",
       "        [ 6,  7]],\n",
       "\n",
       "       [[ 9, 10],\n",
       "        [12, 13],\n",
       "        [15, 16]],\n",
       "\n",
       "       [[18, 19],\n",
       "        [21, 22],\n",
       "        [24, 25]]])"
      ]
     },
     "execution_count": 9,
     "metadata": {},
     "output_type": "execute_result"
    }
   ],
   "execution_count": 9
  },
  {
   "metadata": {},
   "cell_type": "markdown",
   "source": "#### Axis not provided then flattern array and delete from given indices",
   "id": "84fc3d3706c60d4a"
  },
  {
   "metadata": {
    "ExecuteTime": {
     "end_time": "2024-06-16T07:43:23.835240Z",
     "start_time": "2024-06-16T07:43:23.830612Z"
    }
   },
   "cell_type": "code",
   "source": "np.delete(a3,[1,2,11]) ",
   "id": "f14d1b5b6b7d7725",
   "outputs": [
    {
     "data": {
      "text/plain": [
       "array([ 0,  3,  4,  5,  6,  7,  8,  9, 10, 12, 13, 14, 15, 16, 17, 18, 19,\n",
       "       20, 21, 22, 23, 24, 25, 26])"
      ]
     },
     "execution_count": 10,
     "metadata": {},
     "output_type": "execute_result"
    }
   ],
   "execution_count": 10
  },
  {
   "metadata": {},
   "cell_type": "markdown",
   "source": [
    "# 6.Insert and Replace\n",
    "##### np.insert(array,indices,value,axis)\n",
    "    ->copy\n",
    "    ->insert at given indices\n",
    "    ->single value or ndarray can be passed\n",
    "##### np.append(array,value,axis)\n",
    "    ->copy\n",
    "    ->add at end only\n",
    "    ->only ndarray is allowed\n",
    "##### np.put(array,indices,value)\n",
    "    ->permanenent (not produce view it will make changes in array directly)\n",
    "    ->can add only value \n",
    "    ->don't give error whatever you do except out of bound\n",
    "    ->consider array as flattern and act on it but still shape of array dosen't change"
   ],
   "id": "6f44e7520f745682"
  },
  {
   "metadata": {},
   "cell_type": "markdown",
   "source": "## np.insert(array,indices,value,axis)-->copy",
   "id": "dcd8041ec5432f2d"
  },
  {
   "metadata": {},
   "cell_type": "markdown",
   "source": [
    "### 1>Axis Provided:- Add value to given axis as indice given\n",
    "    1D: directly add value at given location\n",
    "    2D: Axis-0 add row with given value or row at given indices\n",
    "        Axis-1 add column with given value or column at given location\n",
    "    3D: Axis-0 add 2D Array made from given value or can pass 2d array yourself at given location\n",
    "        Axis-1 add row with given value or row in all 2D matrices at given indices\n",
    "        Axis-1 add column with given value or column in all 2D matrices at given location\n",
    "    3D Sumarise Note:-Axis-0(add 2D array),Axis-1(add row),Axis-0(add column) \n",
    "### 2>Axis Not provided:- flattern array and then add\n"
   ],
   "id": "af088a29041e5c6f"
  },
  {
   "metadata": {},
   "cell_type": "markdown",
   "source": "#### axis-0 means adding 2D array in 3D at given indices",
   "id": "1c5c5c02c41513c6"
  },
  {
   "metadata": {
    "ExecuteTime": {
     "end_time": "2024-06-16T07:43:23.888913Z",
     "start_time": "2024-06-16T07:43:23.882914Z"
    }
   },
   "cell_type": "code",
   "source": [
    "import numpy as np\n",
    "a3=np.arange(27).reshape(3,3,3)\n",
    "np.insert(a3,[1,3],333,axis=0)"
   ],
   "id": "cd31b241855b8761",
   "outputs": [
    {
     "data": {
      "text/plain": [
       "array([[[  0,   1,   2],\n",
       "        [  3,   4,   5],\n",
       "        [  6,   7,   8]],\n",
       "\n",
       "       [[333, 333, 333],\n",
       "        [333, 333, 333],\n",
       "        [333, 333, 333]],\n",
       "\n",
       "       [[  9,  10,  11],\n",
       "        [ 12,  13,  14],\n",
       "        [ 15,  16,  17]],\n",
       "\n",
       "       [[ 18,  19,  20],\n",
       "        [ 21,  22,  23],\n",
       "        [ 24,  25,  26]],\n",
       "\n",
       "       [[333, 333, 333],\n",
       "        [333, 333, 333],\n",
       "        [333, 333, 333]]])"
      ]
     },
     "execution_count": 11,
     "metadata": {},
     "output_type": "execute_result"
    }
   ],
   "execution_count": 11
  },
  {
   "metadata": {
    "ExecuteTime": {
     "end_time": "2024-06-16T07:43:23.965489Z",
     "start_time": "2024-06-16T07:43:23.961490Z"
    }
   },
   "cell_type": "code",
   "source": [
    "import numpy as np\n",
    "add=np.arange(9).reshape(3,3) #2D array\n",
    "a3=np.arange(27).reshape(3,3,3)\n",
    "np.insert(a3,[1,3],add,axis=0)"
   ],
   "id": "a82356c21f6cefc3",
   "outputs": [
    {
     "data": {
      "text/plain": [
       "array([[[ 0,  1,  2],\n",
       "        [ 3,  4,  5],\n",
       "        [ 6,  7,  8]],\n",
       "\n",
       "       [[ 0,  1,  2],\n",
       "        [ 3,  4,  5],\n",
       "        [ 6,  7,  8]],\n",
       "\n",
       "       [[ 9, 10, 11],\n",
       "        [12, 13, 14],\n",
       "        [15, 16, 17]],\n",
       "\n",
       "       [[18, 19, 20],\n",
       "        [21, 22, 23],\n",
       "        [24, 25, 26]],\n",
       "\n",
       "       [[ 0,  1,  2],\n",
       "        [ 3,  4,  5],\n",
       "        [ 6,  7,  8]]])"
      ]
     },
     "execution_count": 12,
     "metadata": {},
     "output_type": "execute_result"
    }
   ],
   "execution_count": 12
  },
  {
   "metadata": {},
   "cell_type": "markdown",
   "source": "#### axis-1 means adding row in every 2D array of 3D array at given indices",
   "id": "7eca4d0880b994fc"
  },
  {
   "metadata": {
    "ExecuteTime": {
     "end_time": "2024-06-16T07:43:23.997049Z",
     "start_time": "2024-06-16T07:43:23.992979Z"
    }
   },
   "cell_type": "code",
   "source": "np.insert(a3,[2],444,axis=1) #single value maek row",
   "id": "b128e4da2d4f31e1",
   "outputs": [
    {
     "data": {
      "text/plain": [
       "array([[[  0,   1,   2],\n",
       "        [  3,   4,   5],\n",
       "        [444, 444, 444],\n",
       "        [  6,   7,   8]],\n",
       "\n",
       "       [[  9,  10,  11],\n",
       "        [ 12,  13,  14],\n",
       "        [444, 444, 444],\n",
       "        [ 15,  16,  17]],\n",
       "\n",
       "       [[ 18,  19,  20],\n",
       "        [ 21,  22,  23],\n",
       "        [444, 444, 444],\n",
       "        [ 24,  25,  26]]])"
      ]
     },
     "execution_count": 13,
     "metadata": {},
     "output_type": "execute_result"
    }
   ],
   "execution_count": 13
  },
  {
   "metadata": {
    "ExecuteTime": {
     "end_time": "2024-06-16T07:43:24.060368Z",
     "start_time": "2024-06-16T07:43:24.055283Z"
    }
   },
   "cell_type": "code",
   "source": "np.insert(a3,[2],[2,3,4],axis=1) #pass row",
   "id": "1ed576bb7b78371a",
   "outputs": [
    {
     "data": {
      "text/plain": [
       "array([[[ 0,  1,  2],\n",
       "        [ 3,  4,  5],\n",
       "        [ 2,  3,  4],\n",
       "        [ 6,  7,  8]],\n",
       "\n",
       "       [[ 9, 10, 11],\n",
       "        [12, 13, 14],\n",
       "        [ 2,  3,  4],\n",
       "        [15, 16, 17]],\n",
       "\n",
       "       [[18, 19, 20],\n",
       "        [21, 22, 23],\n",
       "        [ 2,  3,  4],\n",
       "        [24, 25, 26]]])"
      ]
     },
     "execution_count": 14,
     "metadata": {},
     "output_type": "execute_result"
    }
   ],
   "execution_count": 14
  },
  {
   "metadata": {},
   "cell_type": "markdown",
   "source": "#### axis-2 means adding column in every 2D array of 3D array at given indices",
   "id": "5377dabbb61bad3d"
  },
  {
   "metadata": {
    "ExecuteTime": {
     "end_time": "2024-06-16T07:43:24.141064Z",
     "start_time": "2024-06-16T07:43:24.137014Z"
    }
   },
   "cell_type": "code",
   "source": "np.insert(a3,[2],2,axis=2) #passing single value making column",
   "id": "3f5d8a542d2c9c35",
   "outputs": [
    {
     "data": {
      "text/plain": [
       "array([[[ 0,  1,  2,  2],\n",
       "        [ 3,  4,  2,  5],\n",
       "        [ 6,  7,  2,  8]],\n",
       "\n",
       "       [[ 9, 10,  2, 11],\n",
       "        [12, 13,  2, 14],\n",
       "        [15, 16,  2, 17]],\n",
       "\n",
       "       [[18, 19,  2, 20],\n",
       "        [21, 22,  2, 23],\n",
       "        [24, 25,  2, 26]]])"
      ]
     },
     "execution_count": 15,
     "metadata": {},
     "output_type": "execute_result"
    }
   ],
   "execution_count": 15
  },
  {
   "metadata": {
    "ExecuteTime": {
     "end_time": "2024-06-16T07:43:24.252208Z",
     "start_time": "2024-06-16T07:43:24.247003Z"
    }
   },
   "cell_type": "code",
   "source": "np.insert(a3,[1],[[1],[2],[3]],axis=2) #passing single column",
   "id": "19f8eec0c378d931",
   "outputs": [
    {
     "data": {
      "text/plain": [
       "array([[[ 0,  1,  1,  2],\n",
       "        [ 3,  2,  4,  5],\n",
       "        [ 6,  3,  7,  8]],\n",
       "\n",
       "       [[ 9,  1, 10, 11],\n",
       "        [12,  2, 13, 14],\n",
       "        [15,  3, 16, 17]],\n",
       "\n",
       "       [[18,  1, 19, 20],\n",
       "        [21,  2, 22, 23],\n",
       "        [24,  3, 25, 26]]])"
      ]
     },
     "execution_count": 16,
     "metadata": {},
     "output_type": "execute_result"
    }
   ],
   "execution_count": 16
  },
  {
   "metadata": {
    "ExecuteTime": {
     "end_time": "2024-06-16T07:43:24.282976Z",
     "start_time": "2024-06-16T07:43:24.278483Z"
    }
   },
   "cell_type": "code",
   "source": "np.insert(a3,[1],[[1,2],[2,3],[3,4]],axis=2) #passing 2 column",
   "id": "a5decf60e8112721",
   "outputs": [
    {
     "data": {
      "text/plain": [
       "array([[[ 0,  1,  2,  1,  2],\n",
       "        [ 3,  2,  3,  4,  5],\n",
       "        [ 6,  3,  4,  7,  8]],\n",
       "\n",
       "       [[ 9,  1,  2, 10, 11],\n",
       "        [12,  2,  3, 13, 14],\n",
       "        [15,  3,  4, 16, 17]],\n",
       "\n",
       "       [[18,  1,  2, 19, 20],\n",
       "        [21,  2,  3, 22, 23],\n",
       "        [24,  3,  4, 25, 26]]])"
      ]
     },
     "execution_count": 17,
     "metadata": {},
     "output_type": "execute_result"
    }
   ],
   "execution_count": 17
  },
  {
   "metadata": {},
   "cell_type": "markdown",
   "source": "#### Not passing axis leads to flattern array ",
   "id": "be7d12443ada2245"
  },
  {
   "metadata": {
    "ExecuteTime": {
     "end_time": "2024-06-16T07:43:24.345099Z",
     "start_time": "2024-06-16T07:43:24.341020Z"
    }
   },
   "cell_type": "code",
   "source": "np.insert(a3,10,20000)",
   "id": "1933011fbf443b4e",
   "outputs": [
    {
     "data": {
      "text/plain": [
       "array([    0,     1,     2,     3,     4,     5,     6,     7,     8,\n",
       "           9, 20000,    10,    11,    12,    13,    14,    15,    16,\n",
       "          17,    18,    19,    20,    21,    22,    23,    24,    25,\n",
       "          26])"
      ]
     },
     "execution_count": 18,
     "metadata": {},
     "output_type": "execute_result"
    }
   ],
   "execution_count": 18
  },
  {
   "metadata": {},
   "cell_type": "raw",
   "source": [
    "np.append(array, value, axis) -->copy\n",
    "same as insert but not have to pass indice and value passed i.e all the input arrays must have same number of dimensions and size not single value as in np.insert() function"
   ],
   "id": "8a314eb2618a58e2"
  },
  {
   "metadata": {
    "ExecuteTime": {
     "end_time": "2024-06-16T07:43:24.385265Z",
     "start_time": "2024-06-16T07:43:24.380424Z"
    }
   },
   "cell_type": "code",
   "source": "np.append(a3,[[[  9,  10,  11],[999, 999, 999],[ 12,  13,  14]]],axis=0) ",
   "id": "7694341a8621c456",
   "outputs": [
    {
     "data": {
      "text/plain": [
       "array([[[  0,   1,   2],\n",
       "        [  3,   4,   5],\n",
       "        [  6,   7,   8]],\n",
       "\n",
       "       [[  9,  10,  11],\n",
       "        [ 12,  13,  14],\n",
       "        [ 15,  16,  17]],\n",
       "\n",
       "       [[ 18,  19,  20],\n",
       "        [ 21,  22,  23],\n",
       "        [ 24,  25,  26]],\n",
       "\n",
       "       [[  9,  10,  11],\n",
       "        [999, 999, 999],\n",
       "        [ 12,  13,  14]]])"
      ]
     },
     "execution_count": 19,
     "metadata": {},
     "output_type": "execute_result"
    }
   ],
   "execution_count": 19
  },
  {
   "metadata": {
    "ExecuteTime": {
     "end_time": "2024-06-16T07:43:24.462370Z",
     "start_time": "2024-06-16T07:43:24.454004Z"
    }
   },
   "cell_type": "code",
   "source": "np.append(a3,[[[10,10,10],[10,10,10],[10,10,10]],[[10,10,10],[10,10,10],[10,10,10]],[[10,10,10],[10,10,10],[10,10,10]]],axis=1) ",
   "id": "3b83a93650608036",
   "outputs": [
    {
     "data": {
      "text/plain": [
       "array([[[ 0,  1,  2],\n",
       "        [ 3,  4,  5],\n",
       "        [ 6,  7,  8],\n",
       "        [10, 10, 10],\n",
       "        [10, 10, 10],\n",
       "        [10, 10, 10]],\n",
       "\n",
       "       [[ 9, 10, 11],\n",
       "        [12, 13, 14],\n",
       "        [15, 16, 17],\n",
       "        [10, 10, 10],\n",
       "        [10, 10, 10],\n",
       "        [10, 10, 10]],\n",
       "\n",
       "       [[18, 19, 20],\n",
       "        [21, 22, 23],\n",
       "        [24, 25, 26],\n",
       "        [10, 10, 10],\n",
       "        [10, 10, 10],\n",
       "        [10, 10, 10]]])"
      ]
     },
     "execution_count": 20,
     "metadata": {},
     "output_type": "execute_result"
    }
   ],
   "execution_count": 20
  },
  {
   "metadata": {
    "ExecuteTime": {
     "end_time": "2024-06-16T07:43:24.489315Z",
     "start_time": "2024-06-16T07:43:24.483810Z"
    }
   },
   "cell_type": "code",
   "source": "np.append(a3,[[[10,10,10],[10,10,10],[10,10,10]],[[10,10,10],[10,10,10],[10,10,10]],[[10,10,10],[10,10,10],[10,10,10]]],axis=2) ",
   "id": "488b375334bd5bb9",
   "outputs": [
    {
     "data": {
      "text/plain": [
       "array([[[ 0,  1,  2, 10, 10, 10],\n",
       "        [ 3,  4,  5, 10, 10, 10],\n",
       "        [ 6,  7,  8, 10, 10, 10]],\n",
       "\n",
       "       [[ 9, 10, 11, 10, 10, 10],\n",
       "        [12, 13, 14, 10, 10, 10],\n",
       "        [15, 16, 17, 10, 10, 10]],\n",
       "\n",
       "       [[18, 19, 20, 10, 10, 10],\n",
       "        [21, 22, 23, 10, 10, 10],\n",
       "        [24, 25, 26, 10, 10, 10]]])"
      ]
     },
     "execution_count": 21,
     "metadata": {},
     "output_type": "execute_result"
    }
   ],
   "execution_count": 21
  },
  {
   "metadata": {
    "ExecuteTime": {
     "end_time": "2024-06-16T07:43:24.561513Z",
     "start_time": "2024-06-16T07:43:24.554978Z"
    }
   },
   "cell_type": "code",
   "source": "np.append(a3, [[[10],[10],[10]],[[10],[10],[10]],[[10],[10],[10]]] ,axis=2) ",
   "id": "df8d49603ad36939",
   "outputs": [
    {
     "data": {
      "text/plain": [
       "array([[[ 0,  1,  2, 10],\n",
       "        [ 3,  4,  5, 10],\n",
       "        [ 6,  7,  8, 10]],\n",
       "\n",
       "       [[ 9, 10, 11, 10],\n",
       "        [12, 13, 14, 10],\n",
       "        [15, 16, 17, 10]],\n",
       "\n",
       "       [[18, 19, 20, 10],\n",
       "        [21, 22, 23, 10],\n",
       "        [24, 25, 26, 10]]])"
      ]
     },
     "execution_count": 22,
     "metadata": {},
     "output_type": "execute_result"
    }
   ],
   "execution_count": 22
  },
  {
   "metadata": {
    "ExecuteTime": {
     "end_time": "2024-06-16T07:43:24.595842Z",
     "start_time": "2024-06-16T07:43:24.592989Z"
    }
   },
   "cell_type": "code",
   "source": [
    "# np.put(array,indices,value)-->permanenent (view) \n",
    "# it will replace from given position it consider array as flattern and then apply change and reshape array as it is "
   ],
   "id": "524ee4cba7bbede8",
   "outputs": [],
   "execution_count": 23
  },
  {
   "metadata": {
    "ExecuteTime": {
     "end_time": "2024-06-16T07:43:24.699790Z",
     "start_time": "2024-06-16T07:43:24.696128Z"
    }
   },
   "cell_type": "code",
   "source": "np.put(a3,[1,3],[200,300]) ",
   "id": "c81cd512bb8cd008",
   "outputs": [],
   "execution_count": 24
  },
  {
   "metadata": {
    "ExecuteTime": {
     "end_time": "2024-06-16T07:43:24.743606Z",
     "start_time": "2024-06-16T07:43:24.736795Z"
    }
   },
   "cell_type": "code",
   "source": "a3",
   "id": "e41582850ae00b8",
   "outputs": [
    {
     "data": {
      "text/plain": [
       "array([[[  0, 200,   2],\n",
       "        [300,   4,   5],\n",
       "        [  6,   7,   8]],\n",
       "\n",
       "       [[  9,  10,  11],\n",
       "        [ 12,  13,  14],\n",
       "        [ 15,  16,  17]],\n",
       "\n",
       "       [[ 18,  19,  20],\n",
       "        [ 21,  22,  23],\n",
       "        [ 24,  25,  26]]])"
      ]
     },
     "execution_count": 25,
     "metadata": {},
     "output_type": "execute_result"
    }
   ],
   "execution_count": 25
  },
  {
   "metadata": {
    "ExecuteTime": {
     "end_time": "2024-06-16T07:43:24.796557Z",
     "start_time": "2024-06-16T07:43:24.793876Z"
    }
   },
   "cell_type": "code",
   "source": "np.put(a3,[1],[500,300]) #don't give error xd except out of bound",
   "id": "2e81d5f717cbc075",
   "outputs": [],
   "execution_count": 26
  },
  {
   "metadata": {
    "ExecuteTime": {
     "end_time": "2024-06-16T07:43:24.829324Z",
     "start_time": "2024-06-16T07:43:24.825251Z"
    }
   },
   "cell_type": "code",
   "source": "a3",
   "id": "8837123cef1ffb52",
   "outputs": [
    {
     "data": {
      "text/plain": [
       "array([[[  0, 500,   2],\n",
       "        [300,   4,   5],\n",
       "        [  6,   7,   8]],\n",
       "\n",
       "       [[  9,  10,  11],\n",
       "        [ 12,  13,  14],\n",
       "        [ 15,  16,  17]],\n",
       "\n",
       "       [[ 18,  19,  20],\n",
       "        [ 21,  22,  23],\n",
       "        [ 24,  25,  26]]])"
      ]
     },
     "execution_count": 27,
     "metadata": {},
     "output_type": "execute_result"
    }
   ],
   "execution_count": 27
  },
  {
   "metadata": {},
   "cell_type": "markdown",
   "source": [
    "# 7.Sorting\n",
    "#### np.sort(array,kind,axis,order)\n",
    "    kind->'quicksort','mergesort','heapsort'\n",
    "    axis->0,1,2"
   ],
   "id": "68114134e9b512ac"
  },
  {
   "metadata": {},
   "cell_type": "markdown",
   "source": [
    "#### Note\n",
    "    here meaning of axis change it is not within axis it is along axis\n",
    "    generally  in 3D axis 2 is column but here sorting is happen between diferent column i.e along row row is sorted\n",
    "    similarly axis 1 is row but here sorting is happen between diferent row i.e column wise sorting happen\n",
    "    if axis=0 means element at 1,1 in 2d compare with 1,1 of another 2D in 3D\n",
    "    \n",
    "    for (3,2) array and axis 1 \n",
    "    (0,0) compared with (0,1) (1,0) comapared with (1,1) 2,0 compared with (2,1)\n",
    "    i.e axis1 is changing are compared i.e rows are compared\n",
    "    \n",
    "    for (3,2) array and axis 0\n",
    "    (0,0) compared with (1,0) and (2,0)  \n",
    "    (0,1) compared with (1,1) and (2,1)\n",
    "    (0,2) compared with (1,2) and (2,2)\n",
    "    i.e axis 0 is changing and are compared i.e columns are being compared"
   ],
   "id": "42d61f00b0a51ead"
  },
  {
   "metadata": {
    "ExecuteTime": {
     "end_time": "2024-06-16T07:43:24.877443Z",
     "start_time": "2024-06-16T07:43:24.872140Z"
    }
   },
   "cell_type": "code",
   "source": [
    "a3=np.random.randint(61,109,size=(4,3,2))\n",
    "a3"
   ],
   "id": "daac1cf90fb498b2",
   "outputs": [
    {
     "data": {
      "text/plain": [
       "array([[[105,  99],\n",
       "        [106,  83],\n",
       "        [ 95, 103]],\n",
       "\n",
       "       [[ 83,  73],\n",
       "        [ 76, 105],\n",
       "        [ 85,  68]],\n",
       "\n",
       "       [[ 96,  68],\n",
       "        [ 77,  95],\n",
       "        [105,  63]],\n",
       "\n",
       "       [[ 87,  97],\n",
       "        [ 81, 102],\n",
       "        [ 91,  82]]])"
      ]
     },
     "execution_count": 28,
     "metadata": {},
     "output_type": "execute_result"
    }
   ],
   "execution_count": 28
  },
  {
   "metadata": {
    "ExecuteTime": {
     "end_time": "2024-06-16T07:43:24.922640Z",
     "start_time": "2024-06-16T07:43:24.918706Z"
    }
   },
   "cell_type": "code",
   "source": "np.sort(a3,axis=1) #axis 1 is kept changing i.e column wise",
   "id": "7631fa677668430a",
   "outputs": [
    {
     "data": {
      "text/plain": [
       "array([[[ 95,  83],\n",
       "        [105,  99],\n",
       "        [106, 103]],\n",
       "\n",
       "       [[ 76,  68],\n",
       "        [ 83,  73],\n",
       "        [ 85, 105]],\n",
       "\n",
       "       [[ 77,  63],\n",
       "        [ 96,  68],\n",
       "        [105,  95]],\n",
       "\n",
       "       [[ 81,  82],\n",
       "        [ 87,  97],\n",
       "        [ 91, 102]]])"
      ]
     },
     "execution_count": 29,
     "metadata": {},
     "output_type": "execute_result"
    }
   ],
   "execution_count": 29
  },
  {
   "metadata": {
    "ExecuteTime": {
     "end_time": "2024-06-16T07:43:24.998809Z",
     "start_time": "2024-06-16T07:43:24.994806Z"
    }
   },
   "cell_type": "code",
   "source": "np.sort(a3,axis=2) #axis 2 is kept changing i.e row wise",
   "id": "b286bf5f83ea0651",
   "outputs": [
    {
     "data": {
      "text/plain": [
       "array([[[ 99, 105],\n",
       "        [ 83, 106],\n",
       "        [ 95, 103]],\n",
       "\n",
       "       [[ 73,  83],\n",
       "        [ 76, 105],\n",
       "        [ 68,  85]],\n",
       "\n",
       "       [[ 68,  96],\n",
       "        [ 77,  95],\n",
       "        [ 63, 105]],\n",
       "\n",
       "       [[ 87,  97],\n",
       "        [ 81, 102],\n",
       "        [ 82,  91]]])"
      ]
     },
     "execution_count": 30,
     "metadata": {},
     "output_type": "execute_result"
    }
   ],
   "execution_count": 30
  },
  {
   "metadata": {
    "ExecuteTime": {
     "end_time": "2024-06-16T07:43:25.030767Z",
     "start_time": "2024-06-16T07:43:25.026102Z"
    }
   },
   "cell_type": "code",
   "source": "np.sort(a3,axis=0) #axis 0 is kept changing i.e element of 2D array wise",
   "id": "d147b052d983d5ad",
   "outputs": [
    {
     "data": {
      "text/plain": [
       "array([[[ 83,  68],\n",
       "        [ 76,  83],\n",
       "        [ 85,  63]],\n",
       "\n",
       "       [[ 87,  73],\n",
       "        [ 77,  95],\n",
       "        [ 91,  68]],\n",
       "\n",
       "       [[ 96,  97],\n",
       "        [ 81, 102],\n",
       "        [ 95,  82]],\n",
       "\n",
       "       [[105,  99],\n",
       "        [106, 105],\n",
       "        [105, 103]]])"
      ]
     },
     "execution_count": 31,
     "metadata": {},
     "output_type": "execute_result"
    }
   ],
   "execution_count": 31
  },
  {
   "metadata": {},
   "cell_type": "markdown",
   "source": [
    "# 8.Serching\n",
    "#### np.where(condition)\n",
    "    ->return indices where condition mask is True\n",
    "#### np.where(condition,if,else)\n",
    "    ->replaced new copy of array \n",
    "#### a[condition on a]  \n",
    "    ->return value where condition mask is True\n",
    "#### np.isin(array,list_to_search)\n",
    "    ->return boolean array\n"
   ],
   "id": "f1aa5a9967cf3c03"
  },
  {
   "metadata": {},
   "cell_type": "markdown",
   "source": "#### Get indices of array where condition is True",
   "id": "bd03faf53926d989"
  },
  {
   "metadata": {
    "ExecuteTime": {
     "end_time": "2024-06-16T07:43:25.091184Z",
     "start_time": "2024-06-16T07:43:25.086566Z"
    }
   },
   "cell_type": "code",
   "source": "np.where(a2>2)",
   "id": "6f85ac209e9386cb",
   "outputs": [
    {
     "data": {
      "text/plain": [
       "(array([1, 2, 2, 3, 3], dtype=int64), array([1, 0, 1, 0, 1], dtype=int64))"
      ]
     },
     "execution_count": 32,
     "metadata": {},
     "output_type": "execute_result"
    }
   ],
   "execution_count": 32
  },
  {
   "metadata": {},
   "cell_type": "markdown",
   "source": "#### Make indices recevied from np.where() as mask to return value",
   "id": "28b6c9d5318ea46"
  },
  {
   "metadata": {
    "ExecuteTime": {
     "end_time": "2024-06-16T07:43:25.137100Z",
     "start_time": "2024-06-16T07:43:25.133010Z"
    }
   },
   "cell_type": "code",
   "source": "a2[np.where(a2>2)]",
   "id": "e646afba9644704f",
   "outputs": [
    {
     "data": {
      "text/plain": [
       "array([3, 4, 5, 6, 7])"
      ]
     },
     "execution_count": 33,
     "metadata": {},
     "output_type": "execute_result"
    }
   ],
   "execution_count": 33
  },
  {
   "metadata": {},
   "cell_type": "markdown",
   "source": "#### Apply IF-ELSE with np.where()",
   "id": "734a2e96b8f37297"
  },
  {
   "metadata": {
    "ExecuteTime": {
     "end_time": "2024-06-16T07:43:25.231959Z",
     "start_time": "2024-06-16T07:43:25.226991Z"
    }
   },
   "cell_type": "code",
   "source": "np.where(a2==2,000,12)",
   "id": "4f099ac1cf48bda9",
   "outputs": [
    {
     "data": {
      "text/plain": [
       "array([[12, 12],\n",
       "       [ 0, 12],\n",
       "       [12, 12],\n",
       "       [12, 12]])"
      ]
     },
     "execution_count": 34,
     "metadata": {},
     "output_type": "execute_result"
    }
   ],
   "execution_count": 34
  },
  {
   "metadata": {},
   "cell_type": "markdown",
   "source": "#### Another way for Conditional Selection Using Masking",
   "id": "2b0365dc0353febd"
  },
  {
   "metadata": {
    "ExecuteTime": {
     "end_time": "2024-06-16T07:43:25.262289Z",
     "start_time": "2024-06-16T07:43:25.257260Z"
    }
   },
   "cell_type": "code",
   "source": "a2[a2>2]",
   "id": "54d92b998c4d52e",
   "outputs": [
    {
     "data": {
      "text/plain": [
       "array([3, 4, 5, 6, 7])"
      ]
     },
     "execution_count": 35,
     "metadata": {},
     "output_type": "execute_result"
    }
   ],
   "execution_count": 35
  },
  {
   "metadata": {},
   "cell_type": "markdown",
   "source": "#### Effecient Way of searching multiple element using np.isin() which return Boolean Array as mask",
   "id": "11989879d04b7649"
  },
  {
   "metadata": {
    "ExecuteTime": {
     "end_time": "2024-06-16T07:43:25.355283Z",
     "start_time": "2024-06-16T07:43:25.350745Z"
    }
   },
   "cell_type": "code",
   "source": "np.isin(a2,[1,2,3,4])",
   "id": "4bd33594cfa797c3",
   "outputs": [
    {
     "data": {
      "text/plain": [
       "array([[False,  True],\n",
       "       [ True,  True],\n",
       "       [ True, False],\n",
       "       [False, False]])"
      ]
     },
     "execution_count": 36,
     "metadata": {},
     "output_type": "execute_result"
    }
   ],
   "execution_count": 36
  },
  {
   "metadata": {},
   "cell_type": "markdown",
   "source": "#### Using np.isin() boolean mask to select value",
   "id": "80dac984232838a6"
  },
  {
   "metadata": {
    "ExecuteTime": {
     "end_time": "2024-06-16T07:43:25.385978Z",
     "start_time": "2024-06-16T07:43:25.381279Z"
    }
   },
   "cell_type": "code",
   "source": "a2[np.isin(a2,[1,2,3,4])]",
   "id": "7bda7a26c7f79cf9",
   "outputs": [
    {
     "data": {
      "text/plain": [
       "array([1, 2, 3, 4])"
      ]
     },
     "execution_count": 37,
     "metadata": {},
     "output_type": "execute_result"
    }
   ],
   "execution_count": 37
  },
  {
   "metadata": {},
   "cell_type": "markdown",
   "source": [
    "# 9.Joining\n",
    "#### np.concatenate(array,axis,out,dtype)\n",
    "    ->join the sequence of ndarray along the axis\n",
    "    ->dimention of both array should be same\n",
    "    ->except concatenation axis size of other axis size should be same\n",
    "    ->dimention of resultant array don't change(1D+1D=1D,2D+2D=2D)\n",
    "    ->size of other axis is same except concatenation axis which should be sumed ( axis=0 (2,3,4)+(5,3,4)->(4,3,4) )\n",
    "    ->out:- contain ndarray of that type\n",
    "    ->axis-0:-concatinate verically along row \n",
    "    ->axis-1:- concatinate horizontally along column\n",
    "    ->adding existing array(adding by going one step inside)\n",
    "#### np.stack(array,axis,out)\n",
    "    ->join the sequence of array along new axis\n",
    "    ->dimention and shape of both array should be same\n",
    "    ->resultant dimention of array changes by 1(1D+1D=2D,2D+2D=3D,4D+4D=5D)\n",
    "    ->size of chosen axis will add 2 if 2 array are given,size of chosen axis will add 3 if 3 array are given(axis-1: (2,3,4)+(2,3,4)->(2,2,3,4))\n",
    "    ->axis-0:-concatinate verically along row \n",
    "    ->axis-1:- concatinate horizontally along column\n",
    "    ->create new array when joining(adding by staying one step outside)\n",
    "\n",
    "#### np.vstack(array,out)->axis-0 \n",
    "#### np.hstack(array,out)->axis-1\n",
    "#### np.dstack(array,out)->axis-2 \n",
    "\n",
    "    "
   ],
   "id": "43ecfb13e502559a"
  },
  {
   "metadata": {
    "ExecuteTime": {
     "end_time": "2024-06-16T07:43:51.544255Z",
     "start_time": "2024-06-16T07:43:51.541249Z"
    }
   },
   "cell_type": "code",
   "source": [
    "a_21=np.full((2,2,2),0)\n",
    "a_22=np.full((2,2,2),1)\n",
    "a_23=np.full((2,2,2),2)"
   ],
   "id": "9fa25483055ce466",
   "outputs": [],
   "execution_count": 54
  },
  {
   "metadata": {
    "ExecuteTime": {
     "end_time": "2024-06-16T07:43:25.495820Z",
     "start_time": "2024-06-16T07:43:25.492040Z"
    }
   },
   "cell_type": "code",
   "source": [
    "a_21=np.full((2,2),0)\n",
    "a_22=np.full((2,2),1)\n",
    "a_23=np.full((2,2),2)\n"
   ],
   "id": "51e30776060e9557",
   "outputs": [],
   "execution_count": 39
  },
  {
   "metadata": {
    "ExecuteTime": {
     "end_time": "2024-06-16T07:43:25.556781Z",
     "start_time": "2024-06-16T07:43:25.552348Z"
    }
   },
   "cell_type": "code",
   "source": "np.concatenate((a_21,a_22),axis=0) ",
   "id": "1baa80e159e5d5df",
   "outputs": [
    {
     "data": {
      "text/plain": [
       "array([[0, 0],\n",
       "       [0, 0],\n",
       "       [1, 1],\n",
       "       [1, 1]])"
      ]
     },
     "execution_count": 40,
     "metadata": {},
     "output_type": "execute_result"
    }
   ],
   "execution_count": 40
  },
  {
   "metadata": {
    "ExecuteTime": {
     "end_time": "2024-06-16T07:43:25.593927Z",
     "start_time": "2024-06-16T07:43:25.588918Z"
    }
   },
   "cell_type": "code",
   "source": "np.concatenate((a_21,a_22),axis=1) ",
   "id": "f1324190e50c4929",
   "outputs": [
    {
     "data": {
      "text/plain": [
       "array([[0, 0, 1, 1],\n",
       "       [0, 0, 1, 1]])"
      ]
     },
     "execution_count": 41,
     "metadata": {},
     "output_type": "execute_result"
    }
   ],
   "execution_count": 41
  },
  {
   "metadata": {
    "ExecuteTime": {
     "end_time": "2024-06-16T07:43:55.940105Z",
     "start_time": "2024-06-16T07:43:55.935484Z"
    }
   },
   "cell_type": "code",
   "source": "np.concatenate((a_21,a_22),axis=2) ",
   "id": "d7ca93a50289e405",
   "outputs": [
    {
     "data": {
      "text/plain": [
       "array([[[0, 0, 1, 1],\n",
       "        [0, 0, 1, 1]],\n",
       "\n",
       "       [[0, 0, 1, 1],\n",
       "        [0, 0, 1, 1]]])"
      ]
     },
     "execution_count": 55,
     "metadata": {},
     "output_type": "execute_result"
    }
   ],
   "execution_count": 55
  },
  {
   "metadata": {
    "ExecuteTime": {
     "end_time": "2024-06-16T07:43:25.696897Z",
     "start_time": "2024-06-16T07:43:25.693319Z"
    }
   },
   "cell_type": "code",
   "source": "np.stack((a_21,a_22),axis=0)",
   "id": "c7ab87dd00975546",
   "outputs": [
    {
     "data": {
      "text/plain": [
       "array([[[0, 0],\n",
       "        [0, 0]],\n",
       "\n",
       "       [[1, 1],\n",
       "        [1, 1]]])"
      ]
     },
     "execution_count": 43,
     "metadata": {},
     "output_type": "execute_result"
    }
   ],
   "execution_count": 43
  },
  {
   "metadata": {
    "ExecuteTime": {
     "end_time": "2024-06-16T07:43:25.853502Z",
     "start_time": "2024-06-16T07:43:25.848842Z"
    }
   },
   "cell_type": "code",
   "source": "np.stack((a_21,a_22),axis=1)",
   "id": "256bfebb57d4d81",
   "outputs": [
    {
     "data": {
      "text/plain": [
       "array([[[0, 0],\n",
       "        [1, 1]],\n",
       "\n",
       "       [[0, 0],\n",
       "        [1, 1]]])"
      ]
     },
     "execution_count": 44,
     "metadata": {},
     "output_type": "execute_result"
    }
   ],
   "execution_count": 44
  },
  {
   "metadata": {
    "ExecuteTime": {
     "end_time": "2024-06-16T07:43:25.941008Z",
     "start_time": "2024-06-16T07:43:25.936585Z"
    }
   },
   "cell_type": "code",
   "source": "np.stack((a_21,a_22),axis=2)",
   "id": "9fff305b3af23a83",
   "outputs": [
    {
     "data": {
      "text/plain": [
       "array([[[0, 1],\n",
       "        [0, 1]],\n",
       "\n",
       "       [[0, 1],\n",
       "        [0, 1]]])"
      ]
     },
     "execution_count": 45,
     "metadata": {},
     "output_type": "execute_result"
    }
   ],
   "execution_count": 45
  },
  {
   "metadata": {},
   "cell_type": "markdown",
   "source": [
    "# 10.Spliting\n",
    "#### np.split(array,indices_or_section,axis)\n",
    "    ->size of axis will be splited according to indices or section provided\n",
    "#### np.array_split(array,indices_or_section,axis)\n",
    "    ->similar to np.split() but error don't occure while spliting uneven "
   ],
   "id": "322328f4764b4b31"
  },
  {
   "metadata": {},
   "cell_type": "markdown",
   "source": [
    "#### 1>Based on Indices\n",
    "    if indices is provided then sub array can be of different shape\n",
    "#### 2>Based on Section\n",
    "    if section is provided then sub-array should be of equal shape else give error"
   ],
   "id": "3b4d031691911264"
  },
  {
   "metadata": {
    "ExecuteTime": {
     "end_time": "2024-06-16T07:43:26.004039Z",
     "start_time": "2024-06-16T07:43:25.999632Z"
    }
   },
   "cell_type": "code",
   "source": [
    "a=np.random.randint(10,100,(6,4))\n",
    "a"
   ],
   "id": "dc2be5204277d650",
   "outputs": [
    {
     "data": {
      "text/plain": [
       "array([[90, 68, 32, 14],\n",
       "       [32, 71, 37, 43],\n",
       "       [97, 84, 75, 47],\n",
       "       [46, 19, 94, 66],\n",
       "       [53, 71, 86, 77],\n",
       "       [72, 19, 46, 74]])"
      ]
     },
     "execution_count": 46,
     "metadata": {},
     "output_type": "execute_result"
    }
   ],
   "execution_count": 46
  },
  {
   "metadata": {},
   "cell_type": "markdown",
   "source": "Axis-0 split array row wise by Indices",
   "id": "b8c41550d15434bc"
  },
  {
   "metadata": {
    "ExecuteTime": {
     "end_time": "2024-06-16T07:43:26.036337Z",
     "start_time": "2024-06-16T07:43:26.031061Z"
    }
   },
   "cell_type": "code",
   "source": [
    "print(\"Before Split Shape Of Array:- \",a.shape)\n",
    "x=np.split(a,[1,2],axis=0)\n",
    "print(\"After Split Shape Of Arrays:- \",[i.shape for i in x])\n",
    "x"
   ],
   "id": "fded665ff65f7242",
   "outputs": [
    {
     "name": "stdout",
     "output_type": "stream",
     "text": [
      "Before Split Shape Of Array:-  (6, 4)\n",
      "After Split Shape Of Arrays:-  [(1, 4), (1, 4), (4, 4)]\n"
     ]
    },
    {
     "data": {
      "text/plain": [
       "[array([[90, 68, 32, 14]]),\n",
       " array([[32, 71, 37, 43]]),\n",
       " array([[97, 84, 75, 47],\n",
       "        [46, 19, 94, 66],\n",
       "        [53, 71, 86, 77],\n",
       "        [72, 19, 46, 74]])]"
      ]
     },
     "execution_count": 47,
     "metadata": {},
     "output_type": "execute_result"
    }
   ],
   "execution_count": 47
  },
  {
   "metadata": {},
   "cell_type": "markdown",
   "source": "Axis-1 split array column wise By indices",
   "id": "7a4ea3ab0d05653b"
  },
  {
   "metadata": {
    "ExecuteTime": {
     "end_time": "2024-06-16T07:43:26.113564Z",
     "start_time": "2024-06-16T07:43:26.108842Z"
    }
   },
   "cell_type": "code",
   "source": [
    "print(\"Before Split Shape Of Array:- \",a.shape)\n",
    "x=np.split(a,[1,2],axis=1)\n",
    "print(\"After Split Shape Of Arrays:- \",[i.shape for i in x])\n",
    "x"
   ],
   "id": "9a80caab3e22e2b0",
   "outputs": [
    {
     "name": "stdout",
     "output_type": "stream",
     "text": [
      "Before Split Shape Of Array:-  (6, 4)\n",
      "After Split Shape Of Arrays:-  [(6, 1), (6, 1), (6, 2)]\n"
     ]
    },
    {
     "data": {
      "text/plain": [
       "[array([[90],\n",
       "        [32],\n",
       "        [97],\n",
       "        [46],\n",
       "        [53],\n",
       "        [72]]),\n",
       " array([[68],\n",
       "        [71],\n",
       "        [84],\n",
       "        [19],\n",
       "        [71],\n",
       "        [19]]),\n",
       " array([[32, 14],\n",
       "        [37, 43],\n",
       "        [75, 47],\n",
       "        [94, 66],\n",
       "        [86, 77],\n",
       "        [46, 74]])]"
      ]
     },
     "execution_count": 48,
     "metadata": {},
     "output_type": "execute_result"
    }
   ],
   "execution_count": 48
  },
  {
   "metadata": {},
   "cell_type": "markdown",
   "source": "Axis-0 split array row wise by section",
   "id": "9a50281108a0470c"
  },
  {
   "metadata": {
    "ExecuteTime": {
     "end_time": "2024-06-16T07:43:26.165830Z",
     "start_time": "2024-06-16T07:43:26.161790Z"
    }
   },
   "cell_type": "code",
   "source": [
    "print(\"Before Split Shape Of Array:- \",a.shape)\n",
    "x=np.split(a,2,axis=0)\n",
    "print(\"After Split Shape Of Arrays:- \",[i.shape for i in x])\n",
    "x"
   ],
   "id": "4229dfe8882b8868",
   "outputs": [
    {
     "name": "stdout",
     "output_type": "stream",
     "text": [
      "Before Split Shape Of Array:-  (6, 4)\n",
      "After Split Shape Of Arrays:-  [(3, 4), (3, 4)]\n"
     ]
    },
    {
     "data": {
      "text/plain": [
       "[array([[90, 68, 32, 14],\n",
       "        [32, 71, 37, 43],\n",
       "        [97, 84, 75, 47]]),\n",
       " array([[46, 19, 94, 66],\n",
       "        [53, 71, 86, 77],\n",
       "        [72, 19, 46, 74]])]"
      ]
     },
     "execution_count": 49,
     "metadata": {},
     "output_type": "execute_result"
    }
   ],
   "execution_count": 49
  },
  {
   "metadata": {},
   "cell_type": "markdown",
   "source": "Axis-1 split array column wise By Section",
   "id": "66aef0588a9cb489"
  },
  {
   "metadata": {
    "ExecuteTime": {
     "end_time": "2024-06-16T07:43:26.250999Z",
     "start_time": "2024-06-16T07:43:26.246299Z"
    }
   },
   "cell_type": "code",
   "source": [
    "print(\"Before Split Shape Of Array:- \",a.shape)\n",
    "x=np.split(a,2,axis=1)\n",
    "print(\"After Split Shape Of Arrays:- \",[i.shape for i in x])\n",
    "x"
   ],
   "id": "494748028a43118a",
   "outputs": [
    {
     "name": "stdout",
     "output_type": "stream",
     "text": [
      "Before Split Shape Of Array:-  (6, 4)\n",
      "After Split Shape Of Arrays:-  [(6, 2), (6, 2)]\n"
     ]
    },
    {
     "data": {
      "text/plain": [
       "[array([[90, 68],\n",
       "        [32, 71],\n",
       "        [97, 84],\n",
       "        [46, 19],\n",
       "        [53, 71],\n",
       "        [72, 19]]),\n",
       " array([[32, 14],\n",
       "        [37, 43],\n",
       "        [75, 47],\n",
       "        [94, 66],\n",
       "        [86, 77],\n",
       "        [46, 74]])]"
      ]
     },
     "execution_count": 50,
     "metadata": {},
     "output_type": "execute_result"
    }
   ],
   "execution_count": 50
  },
  {
   "metadata": {
    "ExecuteTime": {
     "end_time": "2024-06-16T07:43:26.276337Z",
     "start_time": "2024-06-16T07:43:26.271554Z"
    }
   },
   "cell_type": "code",
   "source": [
    "a=np.random.randint(10,100,(5,3))\n",
    "a"
   ],
   "id": "cfb996a5ce0478d8",
   "outputs": [
    {
     "data": {
      "text/plain": [
       "array([[28, 55, 86],\n",
       "       [40, 87, 28],\n",
       "       [40, 23, 53],\n",
       "       [16, 51, 73],\n",
       "       [69, 61, 82]])"
      ]
     },
     "execution_count": 51,
     "metadata": {},
     "output_type": "execute_result"
    }
   ],
   "execution_count": 51
  },
  {
   "metadata": {},
   "cell_type": "markdown",
   "source": "#### Section with unequal division ",
   "id": "fec8914199b6b5e1"
  },
  {
   "metadata": {
    "ExecuteTime": {
     "end_time": "2024-06-16T07:43:26.375727Z",
     "start_time": "2024-06-16T07:43:26.340815Z"
    }
   },
   "cell_type": "code",
   "source": [
    "print(\"Before Split Shape Of Array:- \",a.shape)\n",
    "x=np.split(a,2,axis=0)\n",
    "print(\"After Split Shape Of Arrays:- \",[i.shape for i in x])\n",
    "x"
   ],
   "id": "20f10ce8aad90e77",
   "outputs": [
    {
     "name": "stdout",
     "output_type": "stream",
     "text": [
      "Before Split Shape Of Array:-  (5, 3)\n"
     ]
    },
    {
     "ename": "ValueError",
     "evalue": "array split does not result in an equal division",
     "output_type": "error",
     "traceback": [
      "\u001B[1;31m---------------------------------------------------------------------------\u001B[0m",
      "\u001B[1;31mValueError\u001B[0m                                Traceback (most recent call last)",
      "Cell \u001B[1;32mIn[52], line 2\u001B[0m\n\u001B[0;32m      1\u001B[0m \u001B[38;5;28mprint\u001B[39m(\u001B[38;5;124m\"\u001B[39m\u001B[38;5;124mBefore Split Shape Of Array:- \u001B[39m\u001B[38;5;124m\"\u001B[39m,a\u001B[38;5;241m.\u001B[39mshape)\n\u001B[1;32m----> 2\u001B[0m x\u001B[38;5;241m=\u001B[39m\u001B[43mnp\u001B[49m\u001B[38;5;241;43m.\u001B[39;49m\u001B[43msplit\u001B[49m\u001B[43m(\u001B[49m\u001B[43ma\u001B[49m\u001B[43m,\u001B[49m\u001B[38;5;241;43m2\u001B[39;49m\u001B[43m,\u001B[49m\u001B[43maxis\u001B[49m\u001B[38;5;241;43m=\u001B[39;49m\u001B[38;5;241;43m0\u001B[39;49m\u001B[43m)\u001B[49m\n\u001B[0;32m      3\u001B[0m \u001B[38;5;28mprint\u001B[39m(\u001B[38;5;124m\"\u001B[39m\u001B[38;5;124mAfter Split Shape Of Arrays:- \u001B[39m\u001B[38;5;124m\"\u001B[39m,[i\u001B[38;5;241m.\u001B[39mshape \u001B[38;5;28;01mfor\u001B[39;00m i \u001B[38;5;129;01min\u001B[39;00m x])\n\u001B[0;32m      4\u001B[0m x\n",
      "File \u001B[1;32m~\\PycharmProjects\\Pandas\\.venv\\Lib\\site-packages\\numpy\\lib\\shape_base.py:864\u001B[0m, in \u001B[0;36msplit\u001B[1;34m(ary, indices_or_sections, axis)\u001B[0m\n\u001B[0;32m    862\u001B[0m     N \u001B[38;5;241m=\u001B[39m ary\u001B[38;5;241m.\u001B[39mshape[axis]\n\u001B[0;32m    863\u001B[0m     \u001B[38;5;28;01mif\u001B[39;00m N \u001B[38;5;241m%\u001B[39m sections:\n\u001B[1;32m--> 864\u001B[0m         \u001B[38;5;28;01mraise\u001B[39;00m \u001B[38;5;167;01mValueError\u001B[39;00m(\n\u001B[0;32m    865\u001B[0m             \u001B[38;5;124m'\u001B[39m\u001B[38;5;124marray split does not result in an equal division\u001B[39m\u001B[38;5;124m'\u001B[39m) \u001B[38;5;28;01mfrom\u001B[39;00m \u001B[38;5;28;01mNone\u001B[39;00m\n\u001B[0;32m    866\u001B[0m \u001B[38;5;28;01mreturn\u001B[39;00m array_split(ary, indices_or_sections, axis)\n",
      "\u001B[1;31mValueError\u001B[0m: array split does not result in an equal division"
     ]
    }
   ],
   "execution_count": 52
  },
  {
   "metadata": {},
   "cell_type": "markdown",
   "source": "#### Section with unequal division using np.array_split()",
   "id": "d6771fa2b53db9a3"
  },
  {
   "metadata": {
    "ExecuteTime": {
     "end_time": "2024-06-16T07:43:26.397734Z",
     "start_time": "2024-06-16T07:43:26.393396Z"
    }
   },
   "cell_type": "code",
   "source": [
    "print(\"Before Split Shape Of Array:- \",a.shape)\n",
    "x=np.array_split(a,2,axis=0)\n",
    "print(\"After Split Shape Of Arrays:- \",[i.shape for i in x])\n",
    "x"
   ],
   "id": "3bd06c2c124fa10d",
   "outputs": [
    {
     "name": "stdout",
     "output_type": "stream",
     "text": [
      "Before Split Shape Of Array:-  (5, 3)\n",
      "After Split Shape Of Arrays:-  [(3, 3), (2, 3)]\n"
     ]
    },
    {
     "data": {
      "text/plain": [
       "[array([[28, 55, 86],\n",
       "        [40, 87, 28],\n",
       "        [40, 23, 53]]),\n",
       " array([[16, 51, 73],\n",
       "        [69, 61, 82]])]"
      ]
     },
     "execution_count": 53,
     "metadata": {},
     "output_type": "execute_result"
    }
   ],
   "execution_count": 53
  },
  {
   "metadata": {},
   "cell_type": "markdown",
   "source": [
    "# 11.Array Manupulation\n",
    "#### np.reshape(array,shape,order)\n",
    "    ->use to change shape withoud changing data\n",
    "    ->shape must be in form of tuple\n",
    "    ->size of shape should match with input array \n",
    "    ->it is both library level function and object level function\n",
    "    ->it will give view\n",
    "    ->order='C'-Column by Column,'F'-Row by Row\n",
    "\n",
    "#### ndarray.flattern(order)\n",
    "    ->convert nD array to 1D\n",
    "    ->order='C','F'\n",
    "    ->it will return copy \n",
    "    ->it have only object level method\n",
    "\n",
    "#### np.ravel()\n",
    "    ->similar to flattern\n",
    "    ->convert nD to 1D\n",
    "    ->it have both library level method and object level method\n",
    "    ->It return view\n",
    "#### np.transpose(array,axes=(1,0))\n",
    "    ->column become row and row become column\n",
    "    ->change axis i.e row act as column and column act as row\n",
    "    ->axes is use to mention which axis use where\n",
    "    ->axes=(1,0) axis1 act as axis0 and axis0 act as axis1\n",
    "    ->axes=(1,2,0) axis1 act as axis0 , axis2 act as axis1 , axis0 act as axis2. \n",
    "    -> act as libary level,object level and attribute\n",
    "    ->this flip along diagonal xd\n",
    "    ->(0,1)<==>(1,0) transpose conversion\n",
    "#### np.flip(array,axis)\n",
    "    ->flip around axis\n",
    "    ->if axis not given then vertical and horizontal flipping along axis\n",
    "    ->only library level function"
   ],
   "id": "cfb2780804c3b1bb"
  },
  {
   "metadata": {},
   "cell_type": "markdown",
   "source": [
    "\n",
    "\n"
   ],
   "id": "d799d45a28f753ef"
  },
  {
   "metadata": {},
   "cell_type": "markdown",
   "source": "#### Reshape as object method",
   "id": "90aa58e4e4abfd32"
  },
  {
   "metadata": {
    "ExecuteTime": {
     "end_time": "2024-06-16T08:17:12.496444Z",
     "start_time": "2024-06-16T08:17:12.489992Z"
    }
   },
   "cell_type": "code",
   "source": "np.arange(27).reshape((3,3,3),order='F')",
   "id": "f5cafcd768eef79f",
   "outputs": [
    {
     "data": {
      "text/plain": [
       "array([[[ 0,  9, 18],\n",
       "        [ 3, 12, 21],\n",
       "        [ 6, 15, 24]],\n",
       "\n",
       "       [[ 1, 10, 19],\n",
       "        [ 4, 13, 22],\n",
       "        [ 7, 16, 25]],\n",
       "\n",
       "       [[ 2, 11, 20],\n",
       "        [ 5, 14, 23],\n",
       "        [ 8, 17, 26]]])"
      ]
     },
     "execution_count": 58,
     "metadata": {},
     "output_type": "execute_result"
    }
   ],
   "execution_count": 58
  },
  {
   "metadata": {},
   "cell_type": "markdown",
   "source": "#### Reshape as library level method",
   "id": "4fab4232acb38336"
  },
  {
   "metadata": {
    "ExecuteTime": {
     "end_time": "2024-06-16T08:17:42.173968Z",
     "start_time": "2024-06-16T08:17:42.167937Z"
    }
   },
   "cell_type": "code",
   "source": [
    "a=np.arange(27)\n",
    "np.reshape(a,(3,3,3),order='F')"
   ],
   "id": "4c22ca51174a047e",
   "outputs": [
    {
     "data": {
      "text/plain": [
       "array([[[ 0,  9, 18],\n",
       "        [ 3, 12, 21],\n",
       "        [ 6, 15, 24]],\n",
       "\n",
       "       [[ 1, 10, 19],\n",
       "        [ 4, 13, 22],\n",
       "        [ 7, 16, 25]],\n",
       "\n",
       "       [[ 2, 11, 20],\n",
       "        [ 5, 14, 23],\n",
       "        [ 8, 17, 26]]])"
      ]
     },
     "execution_count": 59,
     "metadata": {},
     "output_type": "execute_result"
    }
   ],
   "execution_count": 59
  },
  {
   "metadata": {},
   "cell_type": "markdown",
   "source": "#### Flattern",
   "id": "436922ea848238b9"
  },
  {
   "metadata": {
    "ExecuteTime": {
     "end_time": "2024-06-16T08:22:47.866493Z",
     "start_time": "2024-06-16T08:22:47.857065Z"
    }
   },
   "cell_type": "code",
   "source": [
    "a=a.reshape((3,3,3))\n",
    "a"
   ],
   "id": "5a1090c9b7ebac5e",
   "outputs": [
    {
     "data": {
      "text/plain": [
       "array([[[ 0,  1,  2],\n",
       "        [ 3,  4,  5],\n",
       "        [ 6,  7,  8]],\n",
       "\n",
       "       [[ 9, 10, 11],\n",
       "        [12, 13, 14],\n",
       "        [15, 16, 17]],\n",
       "\n",
       "       [[18, 19, 20],\n",
       "        [21, 22, 23],\n",
       "        [24, 25, 26]]])"
      ]
     },
     "execution_count": 64,
     "metadata": {},
     "output_type": "execute_result"
    }
   ],
   "execution_count": 64
  },
  {
   "metadata": {
    "ExecuteTime": {
     "end_time": "2024-06-16T08:23:21.435567Z",
     "start_time": "2024-06-16T08:23:21.427981Z"
    }
   },
   "cell_type": "code",
   "source": "a.flatten(order='C') #default ",
   "id": "66028a48db80ed4f",
   "outputs": [
    {
     "data": {
      "text/plain": [
       "array([ 0,  1,  2,  3,  4,  5,  6,  7,  8,  9, 10, 11, 12, 13, 14, 15, 16,\n",
       "       17, 18, 19, 20, 21, 22, 23, 24, 25, 26])"
      ]
     },
     "execution_count": 67,
     "metadata": {},
     "output_type": "execute_result"
    }
   ],
   "execution_count": 67
  },
  {
   "metadata": {
    "ExecuteTime": {
     "end_time": "2024-06-16T08:23:22.493475Z",
     "start_time": "2024-06-16T08:23:22.489059Z"
    }
   },
   "cell_type": "code",
   "source": "a.flatten(order='F')",
   "id": "b722e610180a452e",
   "outputs": [
    {
     "data": {
      "text/plain": [
       "array([ 0,  9, 18,  3, 12, 21,  6, 15, 24,  1, 10, 19,  4, 13, 22,  7, 16,\n",
       "       25,  2, 11, 20,  5, 14, 23,  8, 17, 26])"
      ]
     },
     "execution_count": 68,
     "metadata": {},
     "output_type": "execute_result"
    }
   ],
   "execution_count": 68
  },
  {
   "metadata": {},
   "cell_type": "markdown",
   "source": "#### Ravel use as object ",
   "id": "b45478c69f4e76bd"
  },
  {
   "metadata": {
    "ExecuteTime": {
     "end_time": "2024-06-16T08:24:50.439382Z",
     "start_time": "2024-06-16T08:24:50.428514Z"
    }
   },
   "cell_type": "code",
   "source": "a.ravel(order=('C'))",
   "id": "f1064418f7695acb",
   "outputs": [
    {
     "data": {
      "text/plain": [
       "array([ 0,  1,  2,  3,  4,  5,  6,  7,  8,  9, 10, 11, 12, 13, 14, 15, 16,\n",
       "       17, 18, 19, 20, 21, 22, 23, 24, 25, 26])"
      ]
     },
     "execution_count": 75,
     "metadata": {},
     "output_type": "execute_result"
    }
   ],
   "execution_count": 75
  },
  {
   "metadata": {
    "ExecuteTime": {
     "end_time": "2024-06-16T08:25:00.692630Z",
     "start_time": "2024-06-16T08:25:00.687789Z"
    }
   },
   "cell_type": "code",
   "source": "np.ravel(a,order=('F'))",
   "id": "b8a7de301b705c34",
   "outputs": [
    {
     "data": {
      "text/plain": [
       "array([ 0,  9, 18,  3, 12, 21,  6, 15, 24,  1, 10, 19,  4, 13, 22,  7, 16,\n",
       "       25,  2, 11, 20,  5, 14, 23,  8, 17, 26])"
      ]
     },
     "execution_count": 76,
     "metadata": {},
     "output_type": "execute_result"
    }
   ],
   "execution_count": 76
  },
  {
   "metadata": {},
   "cell_type": "markdown",
   "source": "NOte:-Ravel is simlar to Flattern just difference is ravel produce view and flattern produce copy",
   "id": "9b6275ded48762d"
  },
  {
   "metadata": {},
   "cell_type": "markdown",
   "source": "#### Transpose",
   "id": "502aa0cc874c8d69"
  },
  {
   "metadata": {
    "ExecuteTime": {
     "end_time": "2024-06-16T09:27:49.006957Z",
     "start_time": "2024-06-16T09:27:49.001200Z"
    }
   },
   "cell_type": "code",
   "source": [
    "import numpy as np\n",
    "a3=np.random.randint(0,1000,(3,3,3))\n",
    "a2=np.random.randint(0,1000,(5,3))"
   ],
   "id": "369ebf5d0224548a",
   "outputs": [],
   "execution_count": 93
  },
  {
   "metadata": {
    "ExecuteTime": {
     "end_time": "2024-06-16T09:27:50.008635Z",
     "start_time": "2024-06-16T09:27:50.002095Z"
    }
   },
   "cell_type": "code",
   "source": "np.transpose(a2,axes=(1,0))",
   "id": "e242e56ded789786",
   "outputs": [
    {
     "data": {
      "text/plain": [
       "array([[493, 932, 926, 101, 109],\n",
       "       [804, 540, 117, 248, 532],\n",
       "       [805, 960, 821,  92,  71]])"
      ]
     },
     "execution_count": 94,
     "metadata": {},
     "output_type": "execute_result"
    }
   ],
   "execution_count": 94
  },
  {
   "metadata": {
    "ExecuteTime": {
     "end_time": "2024-06-16T09:27:51.071084Z",
     "start_time": "2024-06-16T09:27:51.062476Z"
    }
   },
   "cell_type": "code",
   "source": "np.transpose(a3,axes=(1,2,0))",
   "id": "d8d5334bb61647fd",
   "outputs": [
    {
     "data": {
      "text/plain": [
       "array([[[844, 675, 103],\n",
       "        [ 99, 496, 555],\n",
       "        [ 69, 718, 859]],\n",
       "\n",
       "       [[392, 888, 536],\n",
       "        [656, 842, 471],\n",
       "        [395, 612, 396]],\n",
       "\n",
       "       [[578, 828, 175],\n",
       "        [407, 750, 952],\n",
       "        [  8, 965, 993]]])"
      ]
     },
     "execution_count": 95,
     "metadata": {},
     "output_type": "execute_result"
    }
   ],
   "execution_count": 95
  },
  {
   "metadata": {
    "ExecuteTime": {
     "end_time": "2024-06-16T09:27:52.153640Z",
     "start_time": "2024-06-16T09:27:52.147245Z"
    }
   },
   "cell_type": "code",
   "source": "a2.transpose()",
   "id": "229a1115e3119e8f",
   "outputs": [
    {
     "data": {
      "text/plain": [
       "array([[493, 932, 926, 101, 109],\n",
       "       [804, 540, 117, 248, 532],\n",
       "       [805, 960, 821,  92,  71]])"
      ]
     },
     "execution_count": 96,
     "metadata": {},
     "output_type": "execute_result"
    }
   ],
   "execution_count": 96
  },
  {
   "metadata": {
    "ExecuteTime": {
     "end_time": "2024-06-16T09:27:52.761315Z",
     "start_time": "2024-06-16T09:27:52.756508Z"
    }
   },
   "cell_type": "code",
   "source": "a2.T",
   "id": "e73acbc0bd30276c",
   "outputs": [
    {
     "data": {
      "text/plain": [
       "array([[493, 932, 926, 101, 109],\n",
       "       [804, 540, 117, 248, 532],\n",
       "       [805, 960, 821,  92,  71]])"
      ]
     },
     "execution_count": 97,
     "metadata": {},
     "output_type": "execute_result"
    }
   ],
   "execution_count": 97
  },
  {
   "metadata": {},
   "cell_type": "markdown",
   "source": "#### Flip",
   "id": "1e0525d51228b723"
  },
  {
   "metadata": {
    "ExecuteTime": {
     "end_time": "2024-06-16T09:27:54.858146Z",
     "start_time": "2024-06-16T09:27:54.850592Z"
    }
   },
   "cell_type": "code",
   "source": "np.flip(a2,axis=1)",
   "id": "5ef209474c558fed",
   "outputs": [
    {
     "data": {
      "text/plain": [
       "array([[805, 804, 493],\n",
       "       [960, 540, 932],\n",
       "       [821, 117, 926],\n",
       "       [ 92, 248, 101],\n",
       "       [ 71, 532, 109]])"
      ]
     },
     "execution_count": 98,
     "metadata": {},
     "output_type": "execute_result"
    }
   ],
   "execution_count": 98
  },
  {
   "metadata": {
    "ExecuteTime": {
     "end_time": "2024-06-16T09:28:11.324656Z",
     "start_time": "2024-06-16T09:28:11.319623Z"
    }
   },
   "cell_type": "code",
   "source": "np.flip(a2,axis=0)",
   "id": "67626f0a266f5644",
   "outputs": [
    {
     "data": {
      "text/plain": [
       "array([[109, 532,  71],\n",
       "       [101, 248,  92],\n",
       "       [926, 117, 821],\n",
       "       [932, 540, 960],\n",
       "       [493, 804, 805]])"
      ]
     },
     "execution_count": 99,
     "metadata": {},
     "output_type": "execute_result"
    }
   ],
   "execution_count": 99
  },
  {
   "metadata": {},
   "cell_type": "markdown",
   "source": [
    "# 12.Unique\n",
    "#### np.unique(array,return_index,return_counts,axis)\n",
    "    ->return sorted array\n",
    "    ->return count of unique element\n",
    "    ->return indices of unique value"
   ],
   "id": "3607b9910240c460"
  },
  {
   "metadata": {
    "ExecuteTime": {
     "end_time": "2024-06-17T08:44:01.095823Z",
     "start_time": "2024-06-17T08:44:01.086022Z"
    }
   },
   "cell_type": "code",
   "source": [
    "import numpy as np\n",
    "x=np.random.randint(10,30,(40))"
   ],
   "id": "6869dd62aff790c1",
   "outputs": [],
   "execution_count": 3
  },
  {
   "metadata": {
    "ExecuteTime": {
     "end_time": "2024-06-17T08:44:03.119667Z",
     "start_time": "2024-06-17T08:44:03.114166Z"
    }
   },
   "cell_type": "code",
   "source": "x",
   "id": "61f092ee9ff96df6",
   "outputs": [
    {
     "data": {
      "text/plain": [
       "array([25, 11, 28, 12, 17, 26, 24, 22, 11, 24, 25, 17, 21, 20, 12, 25, 27,\n",
       "       26, 12, 28, 14, 24, 15, 12, 29, 24, 24, 15, 18, 22, 22, 21, 11, 10,\n",
       "       22, 21, 10, 28, 23, 25])"
      ]
     },
     "execution_count": 4,
     "metadata": {},
     "output_type": "execute_result"
    }
   ],
   "execution_count": 4
  },
  {
   "metadata": {
    "ExecuteTime": {
     "end_time": "2024-06-17T08:46:34.359272Z",
     "start_time": "2024-06-17T08:46:34.353445Z"
    }
   },
   "cell_type": "code",
   "source": [
    "unique,indices,count=np.unique(x,return_index=True,return_counts=True)\n",
    "np.unique(x,return_index=True,return_counts=True)"
   ],
   "id": "d7720475ba68e1e5",
   "outputs": [
    {
     "data": {
      "text/plain": [
       "(array([10, 11, 12, 14, 15, 17, 18, 20, 21, 22, 23, 24, 25, 26, 27, 28, 29]),\n",
       " array([33,  1,  3, 20, 22,  4, 28, 13, 12,  7, 38,  6,  0,  5, 16,  2, 24],\n",
       "       dtype=int64),\n",
       " array([2, 3, 4, 1, 2, 2, 1, 1, 3, 4, 1, 5, 4, 2, 1, 3, 1], dtype=int64))"
      ]
     },
     "execution_count": 20,
     "metadata": {},
     "output_type": "execute_result"
    }
   ],
   "execution_count": 20
  },
  {
   "metadata": {
    "ExecuteTime": {
     "end_time": "2024-06-17T08:47:39.446391Z",
     "start_time": "2024-06-17T08:47:39.441334Z"
    }
   },
   "cell_type": "code",
   "source": "x=x.reshape(20,2)",
   "id": "fc2f0d3bc37755c5",
   "outputs": [],
   "execution_count": 23
  },
  {
   "metadata": {
    "ExecuteTime": {
     "end_time": "2024-06-17T08:48:13.368703Z",
     "start_time": "2024-06-17T08:48:13.363007Z"
    }
   },
   "cell_type": "code",
   "source": "x",
   "id": "a3f41931b351a35d",
   "outputs": [
    {
     "data": {
      "text/plain": [
       "array([[25, 11],\n",
       "       [28, 12],\n",
       "       [17, 26],\n",
       "       [24, 22],\n",
       "       [11, 24],\n",
       "       [25, 17],\n",
       "       [21, 20],\n",
       "       [12, 25],\n",
       "       [27, 26],\n",
       "       [12, 28],\n",
       "       [14, 24],\n",
       "       [15, 12],\n",
       "       [29, 24],\n",
       "       [24, 15],\n",
       "       [18, 22],\n",
       "       [22, 21],\n",
       "       [11, 10],\n",
       "       [22, 21],\n",
       "       [10, 28],\n",
       "       [23, 25]])"
      ]
     },
     "execution_count": 28,
     "metadata": {},
     "output_type": "execute_result"
    }
   ],
   "execution_count": 28
  },
  {
   "metadata": {
    "ExecuteTime": {
     "end_time": "2024-06-17T08:53:09.358282Z",
     "start_time": "2024-06-17T08:53:09.353168Z"
    }
   },
   "cell_type": "code",
   "source": "np.unique(x,axis=0,return_counts=True) #row wise consider as 1 element",
   "id": "c3d0e95d5ede8695",
   "outputs": [
    {
     "data": {
      "text/plain": [
       "(array([[10, 28],\n",
       "        [11, 10],\n",
       "        [11, 24],\n",
       "        [12, 25],\n",
       "        [12, 28],\n",
       "        [14, 24],\n",
       "        [15, 12],\n",
       "        [17, 26],\n",
       "        [18, 22],\n",
       "        [21, 20],\n",
       "        [22, 21],\n",
       "        [23, 25],\n",
       "        [24, 15],\n",
       "        [24, 22],\n",
       "        [25, 11],\n",
       "        [25, 17],\n",
       "        [27, 26],\n",
       "        [28, 12],\n",
       "        [29, 24]]),\n",
       " array([1, 1, 1, 1, 1, 1, 1, 1, 1, 1, 2, 1, 1, 1, 1, 1, 1, 1, 1],\n",
       "       dtype=int64))"
      ]
     },
     "execution_count": 35,
     "metadata": {},
     "output_type": "execute_result"
    }
   ],
   "execution_count": 35
  },
  {
   "metadata": {
    "ExecuteTime": {
     "end_time": "2024-06-17T08:53:32.479554Z",
     "start_time": "2024-06-17T08:53:32.468669Z"
    }
   },
   "cell_type": "code",
   "source": "np.unique(x,axis=1,return_counts=True) #column consider as 1 element",
   "id": "168290a4e67fc469",
   "outputs": [
    {
     "data": {
      "text/plain": [
       "(array([[11, 25],\n",
       "        [12, 28],\n",
       "        [26, 17],\n",
       "        [22, 24],\n",
       "        [24, 11],\n",
       "        [17, 25],\n",
       "        [20, 21],\n",
       "        [25, 12],\n",
       "        [26, 27],\n",
       "        [28, 12],\n",
       "        [24, 14],\n",
       "        [12, 15],\n",
       "        [24, 29],\n",
       "        [15, 24],\n",
       "        [22, 18],\n",
       "        [21, 22],\n",
       "        [10, 11],\n",
       "        [21, 22],\n",
       "        [28, 10],\n",
       "        [25, 23]]),\n",
       " array([1, 1], dtype=int64))"
      ]
     },
     "execution_count": 36,
     "metadata": {},
     "output_type": "execute_result"
    }
   ],
   "execution_count": 36
  },
  {
   "metadata": {},
   "cell_type": "raw",
   "source": [
    "Remaining :- \n",
    "->Operation Arithmatic \n",
    "->reamining last lecture\n",
    "other things \n",
    "->matrices\n",
    "->dot product\n",
    "->Linear Algebra\n",
    "->Broadcasting"
   ],
   "id": "542f512f73cdf9dd"
  }
 ],
 "metadata": {
  "kernelspec": {
   "display_name": "Python 3",
   "language": "python",
   "name": "python3"
  },
  "language_info": {
   "codemirror_mode": {
    "name": "ipython",
    "version": 2
   },
   "file_extension": ".py",
   "mimetype": "text/x-python",
   "name": "python",
   "nbconvert_exporter": "python",
   "pygments_lexer": "ipython2",
   "version": "2.7.6"
  }
 },
 "nbformat": 4,
 "nbformat_minor": 5
}
